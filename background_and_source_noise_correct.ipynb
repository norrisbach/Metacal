{
 "cells": [
  {
   "cell_type": "markdown",
   "id": "21505099-eb9a-44de-bc95-f63f74a369bc",
   "metadata": {},
   "source": [
    "# Background noise and source noise\n",
    "Here we denote the signal-to-noise ratio (SNR) as $r_0$ and\n",
    "$$\\tag{1}\n",
    "r_0=\\frac{F}{\\sqrt{F+B}}\\,,\n",
    "$$\n",
    "where $F$ is the flux within a $5\\times5$ pixels square region near the centroid of a galaxy, and $B$ \n",
    "is the **flux of a flat sky background in the square region**. Taking the power on both side of \n",
    "equaiton (1), we have\n",
    "$$\\tag{2}\n",
    "r_0^2=\\frac{F^2}{F+B}\n",
    "$$\n",
    "\n",
    "We denote the ratio between the galaxy flux and the **background flux** in the square region as $r_1=\\frac{F}{B}$, \n",
    "which quantifies the ratio between the noise contribution from source versus that from background in the square \n",
    "region. Then we substitute it into equation (2):\n",
    "$$\n",
    "r_0^2=\\frac{F r_1}{1+r_1}\\,\n",
    "$$\n",
    "and we have\n",
    "$$\\tag{3}\n",
    "F=r_0^2(1+r_1)/r_1\\,.\n",
    "$$\n",
    "Here we fix the value of $r_0=20$. We change the value of $r_1$ and use equation (3) to determine the\n",
    "value of galaxy flux $F\\,$. The following figure shows the relation between $F$ and $r_1$ in equation (3).\n",
    "\n",
    "__Note: here $B$ is the flux of background in a square region with $5\\times5$ pixels; therefore the pixel \n",
    "value of the flat background is $B/25$.__"
   ]
  },
  {
   "cell_type": "code",
   "execution_count": 1,
   "id": "b38b76e2-058e-4df2-bdc0-6e238ec386be",
   "metadata": {},
   "outputs": [
    {
     "data": {
      "text/plain": [
       "Text(0, 0.5, '$F$')"
      ]
     },
     "execution_count": 1,
     "metadata": {},
     "output_type": "execute_result"
    },
    {
     "data": {
      "image/png": "[encoded data removed]",
      "text/plain": [
       "<Figure size 432x288 with 1 Axes>"
      ]
     },
     "metadata": {
      "needs_background": "light"
     },
     "output_type": "display_data"
    }
   ],
   "source": [
    "%matplotlib inline\n",
    "import numpy as np\n",
    "\n",
    "r1=np.logspace(start=-2,stop=2.,num=100)\n",
    "r0=20.\n",
    "F=r0**2.*(1+r1)/r1\n",
    "B=F/r1\n",
    "plt.close()\n",
    "plt.plot(r1,F)\n",
    "plt.xscale('log')\n",
    "plt.yscale('log')\n",
    "plt.xlabel(r'$r_1$')\n",
    "plt.ylabel(r'$F$')"
   ]
  },
  {
   "cell_type": "markdown",
   "id": "682dea36-9ad1-4a5e-8b5f-613163db0f0f",
   "metadata": {},
   "source": [
    "The following function shows how to simulate a galaxy from an input $r_1$ with a fixed $r_0=20\\,.$"
   ]
  },
  {
   "cell_type": "code",
   "execution_count": 4,
   "id": "eaf9ed45-1c50-408e-a8b0-3ba9c615537d",
   "metadata": {},
   "outputs": [],
   "source": [
    "import galsim\n",
    "def make_gal_ssbg(shear,psf,rng,r1,r0=20.)->np.ndarray:\n",
    "    \"\"\"\n",
    "    simulate an exponential object with moffat PSF, given a SNR (r0) and\n",
    "    a source background noise ratio (r0)\n",
    "    Parameters\n",
    "    ----\n",
    "    shear:  (g1, g2)\n",
    "        The shear in each component\n",
    "    rng:    np.random.RandomState\n",
    "        The random number generator\n",
    "    r1:     float\n",
    "        The source background noise variance ratio\n",
    "    r0:     float\n",
    "        The SNR of galaxy\n",
    "    psf:    galsim.Moffat, e.g.,\n",
    "        galsim.Moffat(beta=2.5,fwhm=psf_fwhm,).shear(g1=0.02, g2=-0.01,)\n",
    "    \"\"\"\n",
    "    rng     =   rng\n",
    "    scale   =   0.263\n",
    "    gal_hlr =   0.5\n",
    "\n",
    "    dy, dx  =   rng.uniform(low=-scale/2, high=scale/2, size=2)\n",
    "\n",
    "    obj0    =   galsim.Exponential(\n",
    "        half_light_radius=gal_hlr,\n",
    "    ).shear(\n",
    "        g1  =   shear[0],\n",
    "        g2  =   shear[1],\n",
    "    ).shift(\n",
    "        dx  =   dx,\n",
    "        dy  =   dy,\n",
    "    )\n",
    "    obj     =   galsim.Convolve(psf, obj0)\n",
    "\n",
    "    # define the psf and psf here which will be repeatedly used\n",
    "    psf     =   psf.drawImage(scale=scale).array\n",
    "    # galaxy image:\n",
    "    img     =   obj.drawImage(scale=scale).array\n",
    "    ngrid   =   img.shape[0]\n",
    "    # noise image:\n",
    "    noimg   =   rng.normal(scale=1.,size=img.shape)\n",
    "    # get the current flux using the 5x5 substamps centered at the stamp's center\n",
    "    flux_tmp=   np.sum(img[ngrid//2-2:ngrid//2+3,ngrid//2-2:ngrid//2+3])\n",
    "    # the current (expectation of) total noise std on the 5x5 substamps is 5 since for each\n",
    "    # pixel, the expecatation value of variance is 1; therefore, the expectation value of variance is 25...\n",
    "    std_tmp =   5\n",
    "    # normalize both the galaxy image and noise image so that they will have\n",
    "    # flux=1 and variance=1 (expectation value) in the 5x5 substamps\n",
    "    img     =   img/flux_tmp\n",
    "    noimg   =   noimg/std_tmp\n",
    "    # now we can determine the flux and background variance using equation (3)\n",
    "    F       =   r0**2.*(1+r1)/r1\n",
    "    B       =   F/r1\n",
    "    # multiply the normalized image by F so that it has flux=F in the 5*5 region\n",
    "    img     =   img*F\n",
    "    #----Correction start from here \n",
    "    # The flat background value (which equals the variance of background noise) \n",
    "    # at each pixel is\n",
    "    Bpix    =   B/25. # we have 5x5 pixles in the square region\n",
    "    # get the variance map of the total noise (source+ background)\n",
    "    totvar  =   Bpix+img\n",
    "    # multiply the normalized noise (with variance=1) by the std map of noise from both source and background \n",
    "    # at each pixel level\n",
    "    noimg   =   noimg*np.sqrt(totvar)\n",
    "    img     =   img+noimg\n",
    "    #----correction end\n",
    "    return img"
   ]
  },
  {
   "cell_type": "code",
   "execution_count": 14,
   "id": "f1f0c131-05ce-4102-b640-ac8abc5e7917",
   "metadata": {},
   "outputs": [
    {
     "data": {
      "text/plain": [
       "<matplotlib.image.AxesImage at 0x7f23d3540a60>"
      ]
     },
     "execution_count": 14,
     "metadata": {},
     "output_type": "execute_result"
    },
    {
     "data": {
      "image/png": "[encoded data removed]",
      "text/plain": [
       "<Figure size 432x288 with 1 Axes>"
      ]
     },
     "metadata": {
      "needs_background": "light"
     },
     "output_type": "display_data"
    }
   ],
   "source": [
    "psf_fwhm=   0.9\n",
    "shear_true = [0.03, 0.00]\n",
    "rng     =   np.random.RandomState(11)\n",
    "psf     =   galsim.Moffat(beta=2.5,fwhm=psf_fwhm).shear(g1=0.02, g2=-0.01,)\n",
    "r1      =   1.# a background dominated situation\n",
    "gal     =   make_gal_ssbg(shear_true,psf,rng,r1,r0=20.)\n",
    "plt.imshow(gal)"
   ]
  },
  {
   "cell_type": "code",
   "execution_count": null,
   "id": "2b5d8d95-6e7a-481e-b94e-c6cb8b663ca4",
   "metadata": {},
   "outputs": [],
   "source": []
  }
 ],
 "metadata": {
  "kernelspec": {
   "display_name": "Python 3 (ipykernel)",
   "language": "python",
   "name": "python3"
  },
  "language_info": {
   "codemirror_mode": {
    "name": "ipython",
    "version": 3
   },
   "file_extension": ".py",
   "mimetype": "text/x-python",
   "name": "python",
   "nbconvert_exporter": "python",
   "pygments_lexer": "ipython3",
   "version": "3.9.10"
  }
 },
 "nbformat": 4,
 "nbformat_minor": 5
}
