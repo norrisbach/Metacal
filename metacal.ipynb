{
 "cells": [
  {
   "cell_type": "code",
   "execution_count": 122,
   "id": "ec2d446f-677d-4fe5-ace5-776239f5faa2",
   "metadata": {},
   "outputs": [],
   "source": [
    "import ngmix\n",
    "import matplotlib.pyplot as plt\n",
    "import galsim\n",
    "import numpy as np\n",
    "\n",
    "def select(data, shear_type):\n",
    "    \"\"\"\n",
    "    select the data by shear type and size\n",
    "    Parameters\n",
    "    ----------\n",
    "    data: array\n",
    "        The array with fields shear_type and T\n",
    "    shear_type: str\n",
    "        e.g. 'noshear', '1p', etc.\n",
    "    Returns\n",
    "    -------\n",
    "    array of indices\n",
    "    \"\"\"\n",
    "\n",
    "    w, = np.where(\n",
    "        (data['flags'] == 0) & (data['shear_type'] == shear_type)\n",
    "    )\n",
    "    return w\n",
    "\n",
    "def make_struct(res, obs, shear_type):\n",
    "    \"\"\"\n",
    "    make the data structure\n",
    "    Parameters\n",
    "    ----------\n",
    "    res: dict\n",
    "        With keys 's2n', 'e', and 'T'\n",
    "    obs: ngmix.Observation\n",
    "        The observation for this shear type\n",
    "    shear_type: str\n",
    "        The shear type\n",
    "    Returns\n",
    "    -------\n",
    "    1-element array with fields\n",
    "    \"\"\"\n",
    "    dt = [\n",
    "        ('flags', 'i4'),\n",
    "        ('shear_type', 'U7'),\n",
    "        ('s2n', 'f8'),\n",
    "        ('g', 'f8', 2),\n",
    "        ('T', 'f8'),\n",
    "        ('Tpsf', 'f8'),\n",
    "    ]\n",
    "    data = np.zeros(1, dtype=dt)\n",
    "    data['shear_type'] = shear_type\n",
    "    data['flags'] = res['flags']\n",
    "    if res['flags'] == 0:\n",
    "        data['s2n'] = res['s2n']\n",
    "        # for moments we are actually measureing e, the elliptity\n",
    "        data['g'] = res['e']\n",
    "        data['T'] = res['T']\n",
    "    else:\n",
    "        data['s2n'] = np.nan\n",
    "        data['g'] = np.nan\n",
    "        data['T'] = np.nan\n",
    "        data['Tpsf'] = np.nan\n",
    "\n",
    "        # we only have one epoch and band, so we can get the psf T from the\n",
    "        # observation rather than averaging over epochs/bands\n",
    "        data['Tpsf'] = obs.psf.meta['result']['T']\n",
    "    return data\n"
   ]
  },
  {
   "cell_type": "code",
   "execution_count": 123,
   "id": "e93fd6d5",
   "metadata": {},
   "outputs": [],
   "source": [
    "def make_data(rng, noise, shear):\n",
    "    \"\"\"\n",
    "    simulate an exponential object with moffat psf\n",
    "    Parameters\n",
    "    ----------\n",
    "    rng: np.random.RandomState\n",
    "        The random number generator\n",
    "    noise: float\n",
    "        Noise for the image\n",
    "    shear: (g1, g2)\n",
    "        The shear in each component\n",
    "    Returns\n",
    "    -------\n",
    "    ngmix.Observation\n",
    "    \"\"\"\n",
    "\n",
    "    scale    = 0.263\n",
    "    psf_fwhm = 0.9\n",
    "    gal_hlr  = 0.5\n",
    "    dy, dx   = rng.uniform(low=-scale/2, high=scale/2, size=2)\n",
    "\n",
    "    psf = galsim.Moffat(beta=2.5, fwhm=psf_fwhm,\n",
    "    ).shear(g1=0.02, g2=-0.01,)\n",
    "    \n",
    "    \n",
    "    obj0 = galsim.Exponential(\n",
    "        half_light_radius=gal_hlr,\n",
    "    ).shear(\n",
    "        g1=shear[0],\n",
    "        g2=shear[1],\n",
    "    ).shift(dx=dx, dy=dy,)\n",
    "    obj = galsim.Convolve(psf, obj0)\n",
    "\n",
    "    psf_im = psf.drawImage(scale=scale).array\n",
    "    im = obj.drawImage(scale = scale)\n",
    "\n",
    "    # psf noise\n",
    "    psf_noise= .001\n",
    "    psf_im += rng.normal(scale=psf_noise, size=psf_im.shape)\n",
    "    \n",
    "    if(version == 0):\n",
    "        im += rng.normal(scale=.54*noise, size=im.array.shape)\n",
    "        #.54*noise\n",
    "    if(version == 1):\n",
    "        random = galsim.BaseDeviate(1024)\n",
    "        var_image = im + (.0736*noise)**2\n",
    "        #0.0736*noise\n",
    "        varNoise = galsim.VariableGaussianNoise(random, var_image)\n",
    "        im.addNoise(varNoise)\n",
    "    imArr = im.array\n",
    "    \n",
    "    cen = (np.array(imArr.shape)-1.0)/2.0\n",
    "    psf_cen = (np.array(psf_im.shape)-1.0)/2.0\n",
    "    jacobian = ngmix.DiagonalJacobian(\n",
    "        row=cen[0] + dy/scale, col=cen[1] + dx/scale, scale=scale,\n",
    "    )\n",
    "    psf_jacobian = ngmix.DiagonalJacobian(\n",
    "        row=psf_cen[0], col=psf_cen[1], scale=scale,\n",
    "    )\n",
    "\n",
    "    # noise variance map\n",
    "    if(version == 0):\n",
    "        wt = imArr*0 + 1.0/(.54*noise)**2\n",
    "    if(version == 1):\n",
    "        wt = imArr*0 + 1.0/(.0736*noise)**2\n",
    "    \n",
    "    psf_wt = psf_im*0 + 1.0/psf_noise**2\n",
    "\n",
    "    psf_obs = ngmix.Observation(\n",
    "        psf_im,\n",
    "        weight=psf_wt,\n",
    "        jacobian=psf_jacobian,\n",
    "    )\n",
    "    obs = ngmix.Observation(\n",
    "        imArr,\n",
    "        weight=wt,\n",
    "        jacobian=jacobian,\n",
    "        psf=psf_obs,\n",
    "    )\n",
    "    return obs"
   ]
  },
  {
   "cell_type": "code",
   "execution_count": 124,
   "id": "b3da0585",
   "metadata": {},
   "outputs": [],
   "source": [
    "def analyze(rng, num_tests, num_gals, noise_level, shear_true):\n",
    "    data = []\n",
    "    x = []\n",
    "    y = []\n",
    "    shear_error = []\n",
    "    s2n_error = []\n",
    "    for i in range(num_tests):\n",
    "        print(\"len(data[]) =\", len(data))\n",
    "        dlist = []\n",
    "        for j in range(num_gals):\n",
    "            obs = make_data(rng=rng, noise=noise_level[i], shear=shear_true)\n",
    "            resdict, obsdict = boot.go(obs)\n",
    "            for stype, sres in resdict.items():\n",
    "                st = make_struct(res=sres, obs=obsdict[stype], shear_type=stype)\n",
    "                dlist.append(st)\n",
    "        data.append(np.hstack(dlist))\n",
    "        #data contains average of all galaxy data\n",
    "        \n",
    "        w = select(data=data[i], shear_type='noshear')\n",
    "        w_1p = select(data=data[i], shear_type='1p')\n",
    "        w_1m = select(data=data[i], shear_type='1m')\n",
    "        g_1p = data[i]['g'][w_1p, 0].mean()\n",
    "        g_1m = data[i]['g'][w_1m, 0].mean()\n",
    "        R11 = (g_1p - g_1m)/0.02\n",
    "        \n",
    "        s2n = data[i]['s2n'][w].mean()\n",
    "        print (\"s2n =\", s2n)\n",
    "        s2n_err = data[i]['s2n'][w].std(axis=0)/np.sqrt(w.size)\n",
    "        s2n_error.append(s2n_err)\n",
    "        \n",
    "        g = data[i]['g'][w].mean(axis=0)\n",
    "        shear = g / R11\n",
    "        print(\"shear[0] =\", shear[0])\n",
    "        \n",
    "        g_error = data[i]['g'][w].std(axis=0) / np.sqrt(w.size)\n",
    "        #plt.hist(data[i]['g'][w][:,0])\n",
    "        #assert 0==1\n",
    "        shear_error.append(g_error[0]/R11)\n",
    "        \n",
    "        x.append(s2n)\n",
    "        y.append(shear[0])\n",
    "            \n",
    "    return (x, y, s2n_error, shear_error)"
   ]
  },
  {
   "cell_type": "code",
   "execution_count": 125,
   "id": "a911faf6-8e07-4c3a-abdc-b73bf9617aa5",
   "metadata": {},
   "outputs": [],
   "source": [
    "rng = np.random.RandomState(1024)\n",
    "#rng = galsim.BaseDeviate(1024)\n",
    "\n",
    "# We will measure moments with a fixed gaussian weight function\n",
    "weight_fwhm= 1.2\n",
    "fitter     = ngmix.gaussmom.GaussMom(fwhm=weight_fwhm)\n",
    "psf_fitter = ngmix.gaussmom.GaussMom(fwhm=weight_fwhm)\n",
    "\n",
    "# these \"runners\" run the measurement code on observations\n",
    "psf_runner = ngmix.runners.PSFRunner(fitter=psf_fitter)\n",
    "runner     = ngmix.runners.Runner(fitter=fitter)\n",
    "\n",
    "# this \"bootstrapper\" runs the metacal image shearing as well as both psf\n",
    "# and object measurements\n",
    "#\n",
    "# We will just do R11 for simplicity and to speed up this example;\n",
    "# typically the off diagonal terms are negligible, and R11 and R22 are\n",
    "# usually consistent\n",
    "boot      = ngmix.metacal.MetacalBootstrapper(\n",
    "    runner= runner, psf_runner=psf_runner,\n",
    "    rng=rng,\n",
    "    psf='gauss',\n",
    "    types=['noshear', '1p', '1m'],\n",
    ")"
   ]
  },
  {
   "cell_type": "code",
   "execution_count": 126,
   "id": "f21c5ccd-9a50-4c3a-adc3-c2ffb8de3625",
   "metadata": {},
   "outputs": [
    {
     "name": "stdout",
     "output_type": "stream",
     "text": [
      "len(data[]) = 0\n",
      "s2n = 1068.9370330837608\n",
      "shear[0] = 0.029351450621638818\n",
      "len(data[]) = 1\n",
      "s2n = 335.9002730444336\n",
      "shear[0] = 0.029355451050117467\n",
      "len(data[]) = 2\n",
      "s2n = 107.01366956167352\n",
      "shear[0] = 0.0281654243423149\n",
      "len(data[]) = 3\n",
      "s2n = 33.30904504978752\n",
      "shear[0] = 0.027920961435070606\n",
      "len(data[]) = 4\n",
      "s2n = 10.679632185663294\n",
      "shear[0] = 0.04294282571787961\n",
      "x = [1068.9370330837608, 335.9002730444336, 107.01366956167352, 33.30904504978752, 10.679632185663294]\n",
      "y = [0.029351450621638818, 0.029355451050117467, 0.0281654243423149, 0.027920961435070606, 0.04294282571787961]\n",
      "xerr = [6.1235669762712, 1.8085829409521743, 0.6316190482275722, 0.22614897603360418, 0.10813171011573756]\n",
      "yerr = [0.0014723990884415766, 0.001693687088541167, 0.0027236797533489823, 0.006115128346824536, 0.019163826707412845]\n"
     ]
    },
    {
     "data": {
      "text/plain": [
       "Text(0, 0.5, '$g_{measured}$')"
      ]
     },
     "execution_count": 126,
     "metadata": {},
     "output_type": "execute_result"
    },
    {
     "data": {
      "image/png": "[encoded data removed]",
      "text/plain": [
       "<Figure size 432x288 with 1 Axes>"
      ]
     },
     "metadata": {
      "needs_background": "light"
     },
     "output_type": "display_data"
    }
   ],
   "source": [
    "noise_arr = np.logspace(-4, -2, 5, base=10.0)\n",
    "num_tests = len(noise_arr)\n",
    "num_gals = 100\n",
    "shear_true = [0.03, 0.00]\n",
    "#version = 0: background noise only; version = 1: background and signal noise\n",
    "version = 0\n",
    "ans = analyze(rng, num_tests, num_gals, noise_arr, shear_true)\n",
    "print(\"x =\", ans[0])\n",
    "print(\"y =\", ans[1])\n",
    "print(\"xerr =\", ans[2])\n",
    "print(\"yerr =\", ans[3])\n",
    "\n",
    "plt.errorbar(ans[0], ans[1], xerr=ans[2], yerr=ans[3], fmt='o')\n",
    "plt.scatter(ans[0], ans[1])\n",
    "plt.axhline(shear_true[0], color=\"orange\")\n",
    "plt.xscale(\"log\")\n",
    "plt.xlabel(r'$\\frac{S}{N}$', fontsize=16)\n",
    "plt.ylabel(r'$g_{measured}$', fontsize=16)"
   ]
  },
  {
   "cell_type": "code",
   "execution_count": 152,
   "id": "80d24425",
   "metadata": {},
   "outputs": [],
   "source": [
    "\"\"\"\n",
    "im_noiseNormal = im\n",
    "im_noiseVariable = im\n",
    "galList.append(im_noiseNormal.array)\n",
    "galList.append(im_noiseVariable.array)\n",
    "galList.append(im.array)\n",
    "for i in range(3):\n",
    "    plt.imshow(galList[i])\n",
    "    \n",
    "plt.plot(im_noiseNormal)\n",
    "plt.plot(im_noiseVariable.array)\n",
    "plt.plot(im.array)\n",
    "\n",
    "plt.show()\n",
    "\"\"\"\n",
    "\n",
    "\n",
    "def drawGal(pick):\n",
    "    \n",
    "    scale    = 0.263\n",
    "    psf_fwhm = 0.9\n",
    "    gal_hlr  = 0.5\n",
    "    noise = 0.001\n",
    "    random = galsim.BaseDeviate(1000)\n",
    "    \n",
    "    psf = galsim.Moffat(beta=2.5, fwhm=psf_fwhm,).shear(g1=0, g2=0,)\n",
    "    \n",
    "    \n",
    "    obj0 = galsim.Exponential(half_light_radius=gal_hlr)\n",
    "    \n",
    "    obj = galsim.Convolve(psf, obj0)\n",
    "\n",
    "    im = obj.drawImage(scale=scale)\n",
    "\n",
    "    if(pick == 1):\n",
    "        im += rng.normal(scale=noise, size=im.array.shape)\n",
    "    if(pick == 2):\n",
    "        var_image= im + (noise)**2\n",
    "        varNoise = galsim.VariableGaussianNoise(random, var_image)\n",
    "        im.addNoise(varNoise)\n",
    "    return(plt.imshow(im.array))"
   ]
  },
  {
   "cell_type": "code",
   "execution_count": 153,
   "id": "4b03b256",
   "metadata": {},
   "outputs": [
    {
     "data": {
      "text/plain": [
       "<matplotlib.image.AxesImage at 0x126114310>"
      ]
     },
     "execution_count": 153,
     "metadata": {},
     "output_type": "execute_result"
    },
    {
     "data": {
      "image/png": "[encoded data removed]",
      "text/plain": [
       "<Figure size 432x288 with 1 Axes>"
      ]
     },
     "metadata": {
      "needs_background": "light"
     },
     "output_type": "display_data"
    }
   ],
   "source": [
    "drawGal(0)"
   ]
  },
  {
   "cell_type": "code",
   "execution_count": 154,
   "id": "94c058a5",
   "metadata": {},
   "outputs": [
    {
     "data": {
      "text/plain": [
       "<matplotlib.image.AxesImage at 0x125ce23a0>"
      ]
     },
     "execution_count": 154,
     "metadata": {},
     "output_type": "execute_result"
    },
    {
     "data": {
      "image/png": "[encoded data removed]",
      "text/plain": [
       "<Figure size 432x288 with 1 Axes>"
      ]
     },
     "metadata": {
      "needs_background": "light"
     },
     "output_type": "display_data"
    }
   ],
   "source": [
    "drawGal(1)"
   ]
  },
  {
   "cell_type": "code",
   "execution_count": 155,
   "id": "bd97a913",
   "metadata": {},
   "outputs": [
    {
     "data": {
      "text/plain": [
       "<matplotlib.image.AxesImage at 0x1234218e0>"
      ]
     },
     "execution_count": 155,
     "metadata": {},
     "output_type": "execute_result"
    },
    {
     "data": {
      "image/png": "[encoded data removed]",
      "text/plain": [
       "<Figure size 432x288 with 1 Axes>"
      ]
     },
     "metadata": {
      "needs_background": "light"
     },
     "output_type": "display_data"
    }
   ],
   "source": [
    "drawGal(2)"
   ]
  }
 ],
 "metadata": {
  "kernelspec": {
   "display_name": "Python 3 (ipykernel)",
   "language": "python",
   "name": "python3"
  },
  "language_info": {
   "codemirror_mode": {
    "name": "ipython",
    "version": 3
   },
   "file_extension": ".py",
   "mimetype": "text/x-python",
   "name": "python",
   "nbconvert_exporter": "python",
   "pygments_lexer": "ipython3",
   "version": "3.9.7"
  }
 },
 "nbformat": 4,
 "nbformat_minor": 5
}
