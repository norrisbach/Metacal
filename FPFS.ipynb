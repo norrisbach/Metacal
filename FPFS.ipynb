{
 "cells": [
  {
   "cell_type": "code",
   "execution_count": 5,
   "id": "ec2d446f-677d-4fe5-ace5-776239f5faa2",
   "metadata": {},
   "outputs": [],
   "source": [
    "%matplotlib inline\n",
    "import gc\n",
    "import fpfs\n",
    "import simutil\n",
    "import galsim\n",
    "import numpy as np\n",
    "import matplotlib.pyplot as plt\n",
    "import numpy.lib.recfunctions as rfn"
   ]
  },
  {
   "cell_type": "code",
   "execution_count": 11,
   "id": "b3da0585",
   "metadata": {},
   "outputs": [],
   "source": [
    "def analyze(rng, num_gals, noise_level, shear_true, version=0):\n",
    "    scale    = 0.263\n",
    "    x  = []\n",
    "    y  = []\n",
    "    y_err= []\n",
    "    backgrounds = []\n",
    "\n",
    "    img,psf=simutil.make_data(rng, shear_true, scale)\n",
    "    \n",
    "    ngrid   =   img.shape[0]\n",
    "    flux_gal=   np.sum(img[ngrid//2-2:ngrid//2+3,ngrid//2-2:ngrid//2+3])\n",
    "    ngrid   =   psf.shape[0]\n",
    "    rcut    =   16\n",
    "    beg     =   ngrid//2-rcut\n",
    "    end     =   beg+2*rcut\n",
    "    # cutout PSF into 32x32 grids\n",
    "    psf     =   psf[beg:end,beg:end] \n",
    "    \n",
    "    num_tests = len(noise_level)\n",
    "    for i in range(num_tests):\n",
    "        noii    =   noise_level[i]\n",
    "        x.append(flux_gal/(noii*5))\n",
    "        fpTask  =   fpfs.fpfsBase.fpfsTask(psf,noiFit=noii**2.,beta=0.75)\n",
    "        results =   []\n",
    "        #makes first true for every new noise value\n",
    "        first   = True\n",
    "        for j in range(num_gals):\n",
    "            galDict,psfDict,_ =   simutil.add_noise(img,psf,scale,rng,noii,version,first)\n",
    "            # cut out galaxy into 32x32 grids\n",
    "            gal= galDict['im']\n",
    "            ngrid=   gal.shape[0]\n",
    "            beg  =   ngrid//2-rcut\n",
    "            end  =   beg+2*rcut\n",
    "            gal  =   gal[beg:end,beg:end]\n",
    "            # FPFS measurement\n",
    "            modes=  fpTask.measure(gal)\n",
    "            # append measured modes to the results list\n",
    "            results.append(modes)\n",
    "            del gal,modes,beg,end,ngrid,galDict,psfDict\n",
    "            if first:\n",
    "                first = False\n",
    "        mms =   rfn.stack_arrays(results,usemask=False)\n",
    "        ells=   fpfs.fpfsBase.fpfsM2E(mms,const=2000,noirev=False)\n",
    "        del mms,results\n",
    "        resp=np.average(ells['fpfs_RE'])\n",
    "        shear=np.average(ells['fpfs_e1'])/resp\n",
    "        shear_err=np.std(ells['fpfs_e1'])/np.abs(resp)/np.sqrt(num_gals)\n",
    "        y.append(shear)\n",
    "        y_err.append(shear_err)\n",
    "        gc.collect()\n",
    "    return np.array(x),np.array(y), np.array(y_err)"
   ]
  },
  {
   "cell_type": "code",
   "execution_count": 7,
   "id": "d7461a05-5ac8-402d-9cb9-e38d04253169",
   "metadata": {},
   "outputs": [],
   "source": [
    "rng=np.random.RandomState(1024)\n",
    "noise_arr = 1e5*np.logspace(-4, -2, 5, base=10.0)\n",
    "num_gals = 4000\n",
    "shear_true = [0.01, 0.00]"
   ]
  },
  {
   "cell_type": "code",
   "execution_count": 8,
   "id": "8c333515-b954-4988-8613-23e5995460be",
   "metadata": {},
   "outputs": [
    {
     "name": "stdout",
     "output_type": "stream",
     "text": [
      "x = [1004.50554688  317.65254504  100.45055469   31.7652545    10.04505547]\n",
      "y = [0.00999006 0.00993935 0.01013268 0.00787302 0.01197396]\n",
      "yerr = [4.05601063e-05 1.25814466e-04 3.89765202e-04 1.26968667e-03\n",
      " 4.15085942e-03]\n"
     ]
    }
   ],
   "source": [
    "ans1 = analyze(rng, num_gals, noise_arr, shear_true, version=0)\n",
    "print(\"x =\", ans1[0])\n",
    "print(\"y =\", ans1[1])\n",
    "print(\"yerr =\", ans1[2])"
   ]
  },
  {
   "cell_type": "code",
   "execution_count": 9,
   "id": "d5cf3f80",
   "metadata": {},
   "outputs": [
    {
     "name": "stdout",
     "output_type": "stream",
     "text": [
      "x = [957.58132813 302.81380417  95.75813281  30.28138042   9.57581328]\n",
      "y = [0.00982594 0.00994266 0.01024916 0.01191481 0.01264119]\n",
      "yerr = [7.93725696e-05 1.42525597e-04 3.97756810e-04 1.26164889e-03\n",
      " 4.24720368e-03]\n"
     ]
    }
   ],
   "source": [
    "ans2 = analyze(rng, num_gals, noise_arr, shear_true, version=1)\n",
    "print(\"x =\", ans2[0])\n",
    "print(\"y =\", ans2[1])\n",
    "print(\"yerr =\", ans2[2])"
   ]
  },
  {
   "cell_type": "code",
   "execution_count": 15,
   "id": "6ae57d2e",
   "metadata": {},
   "outputs": [
    {
     "data": {
      "text/plain": [
       "<matplotlib.legend.Legend at 0x7f180d51f4c0>"
      ]
     },
     "execution_count": 15,
     "metadata": {},
     "output_type": "execute_result"
    },
    {
     "data": {
      "image/png": "[encoded data removed]",
      "text/plain": [
       "<Figure size 432x288 with 1 Axes>"
      ]
     },
     "metadata": {
      "needs_background": "light"
     },
     "output_type": "display_data"
    }
   ],
   "source": [
    "plt.errorbar(ans1[0], ans1[1], yerr=ans1[2], fmt='o', label='background only')\n",
    "plt.errorbar(ans2[0], ans2[1], yerr=ans2[2], fmt='o', label='back+signal noise')\n",
    "plt.axhline(shear_true[0], color=\"orange\")\n",
    "plt.xscale(\"log\")\n",
    "plt.xlabel(r'$S/N$', fontsize=20)\n",
    "plt.ylabel(r'$g_{\\rm mea}$', fontsize=20)\n",
    "plt.legend(fontsize=20)"
   ]
  },
  {
   "cell_type": "code",
   "execution_count": null,
   "id": "7d66ddb4-79ed-4d0d-92c9-0567faf2fa8d",
   "metadata": {},
   "outputs": [],
   "source": []
  }
 ],
 "metadata": {
  "kernelspec": {
   "display_name": "Python 3 (ipykernel)",
   "language": "python",
   "name": "python3"
  },
  "language_info": {
   "codemirror_mode": {
    "name": "ipython",
    "version": 3
   },
   "file_extension": ".py",
   "mimetype": "text/x-python",
   "name": "python",
   "nbconvert_exporter": "python",
   "pygments_lexer": "ipython3",
   "version": "3.9.7"
  }
 },
 "nbformat": 4,
 "nbformat_minor": 5
}
